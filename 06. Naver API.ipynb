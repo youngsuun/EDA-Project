{
 "cells": [
  {
   "cell_type": "markdown",
   "source": [
    "# 06. Naver API\r\n",
    "\r\n",
    "## 1. 네이버 API 사용 등록\r\n",
    "- 네이버 개발자 센터\r\n",
    "- Application \r\n",
    "    - 어플리케이션 등록\r\n",
    "    - 어플리케이션 이름 ds_study\r\n",
    "    - 사용자 API\r\n",
    "        - 검색\r\n",
    "        - 데이터랩(검색어트렌드, 쇼핑인사이트)\r\n",
    "    - 환경추가\r\n",
    "        - web 설정\r\n",
    "        - http://localhost\r\n",
    "    - Client ID: 3nWMTmF4NdtMZlfadGDX\r\n",
    "    - Client Secret: bk9r1RK4H0"
   ],
   "metadata": {}
  },
  {
   "cell_type": "code",
   "execution_count": 3,
   "source": [
    "# 3nWMTmF4NdtMZlfadGDX\r\n",
    "# bk9r1RK4H0"
   ],
   "outputs": [],
   "metadata": {}
  },
  {
   "cell_type": "markdown",
   "source": [
    "## 2. 네이버 검색 API 사용하기"
   ],
   "metadata": {}
  },
  {
   "cell_type": "markdown",
   "source": [
    "- https://developers.naver.com/docs/serviceapi/search/blog/blog.md#%EB%B8%94%EB%A1%9C%EA%B7%B8 # 개발 가이드"
   ],
   "metadata": {}
  },
  {
   "cell_type": "markdown",
   "source": [
    "- urllib : http 프로토콜에 따라서 서버의 요청/응답을 처리하기 위한 모듈\r\n",
    "- urllib.request : 클라이언트의 요청을 처리하는 모듈\r\n",
    "- urllib.parse : url 주소에 대한 분석"
   ],
   "metadata": {}
  },
  {
   "cell_type": "code",
   "execution_count": 4,
   "source": [
    "# 네이버 검색 Open API 예제 - 블로그 검색\r\n",
    "import os\r\n",
    "import sys\r\n",
    "import urllib.request\r\n",
    "\r\n",
    "client_id = \"3nWMTmF4NdtMZlfadGDX\"\r\n",
    "client_secret = \"bk9r1RK4H0\"\r\n",
    "\r\n",
    "encText = urllib.parse.quote(\"파이썬\")\r\n",
    "url = \"https://openapi.naver.com/v1/search/blog?query=\" + encText # json 결과\r\n",
    "# url = \"https://openapi.naver.com/v1/search/blog.xml?query=\" + encText # xml 결과\r\n",
    "request = urllib.request.Request(url)\r\n",
    "request.add_header(\"X-Naver-Client-Id\",client_id)\r\n",
    "request.add_header(\"X-Naver-Client-Secret\",client_secret)\r\n",
    "response = urllib.request.urlopen(request)\r\n",
    "rescode = response.getcode()\r\n",
    "if(rescode==200):\r\n",
    "    response_body = response.read()\r\n",
    "    print(response_body.decode('utf-8'))\r\n",
    "else:\r\n",
    "    print(\"Error Code:\" + rescode)"
   ],
   "outputs": [
    {
     "output_type": "stream",
     "name": "stdout",
     "text": [
      "{\n",
      "\t\"lastBuildDate\":\"Wed, 15 Mar 2023 21:40:25 +0900\",\n",
      "\t\"total\":390916,\n",
      "\t\"start\":1,\n",
      "\t\"display\":10,\n",
      "\t\"items\":[\n",
      "\t\t{\n",
      "\t\t\t\"title\":\"<b>파이썬<\\/b>자격증 취득 독학보다 학원이 좋은 이유\",\n",
      "\t\t\t\"link\":\"https:\\/\\/blog.naver.com\\/hyunju7647\\/223021791438\",\n",
      "\t\t\t\"description\":\"그래서 처음으로 코딩을 배워보기 위해 <b>파이썬<\\/b>자격증을 취득하게 되었습니다. <b>파이썬<\\/b>자격증을 가장 먼저 취득한 이유는 기초코딩 중에서 가장 배우기 쉽다고 해서 취득하게 되었는데요. 기초코딩에는 C언어와... \",\n",
      "\t\t\t\"bloggername\":\"슈퍼더블디\",\n",
      "\t\t\t\"bloggerlink\":\"blog.naver.com\\/hyunju7647\",\n",
      "\t\t\t\"postdate\":\"20230220\"\n",
      "\t\t},\n",
      "\t\t{\n",
      "\t\t\t\"title\":\"<b>파이썬<\\/b>학원을 다니면서 공부해야하는 이유\",\n",
      "\t\t\t\"link\":\"https:\\/\\/blog.naver.com\\/sow723\\/223024072662\",\n",
      "\t\t\t\"description\":\"개발자와는 전혀 관계 없던 제가 <b>파이썬<\\/b>학원을 다니면서 이 쪽으로 취업에 성공할 줄이야 아무도... 그래서 일단 비전공자도 쉽게 배울 수 있다는 언어를 배우기 위해서 #<b>파이썬<\\/b>학원 을 다녀보게 되었습니다.... \",\n",
      "\t\t\t\"bloggername\":\"Onelog\",\n",
      "\t\t\t\"bloggerlink\":\"blog.naver.com\\/sow723\",\n",
      "\t\t\t\"postdate\":\"20230222\"\n",
      "\t\t},\n",
      "\t\t{\n",
      "\t\t\t\"title\":\"<b>파이썬<\\/b>학원 초보자를 위한 공부과정!\",\n",
      "\t\t\t\"link\":\"https:\\/\\/blog.naver.com\\/chzhvkdll\\/222931446581\",\n",
      "\t\t\t\"description\":\"그래서 제가 <b>파이썬<\\/b>학원을 다닌 계기과 장단점, 고민에 대해 써보도록 하겠습니다 :) 모두가 같을 수는... <b>파이썬<\\/b>학원 수강 신청한 건 대학 후배 중에 갑자기 전공 무관하게 그쪽으로 턴해서 공부하고 취직했단... \",\n",
      "\t\t\t\"bloggername\":\"에피\",\n",
      "\t\t\t\"bloggerlink\":\"blog.naver.com\\/chzhvkdll\",\n",
      "\t\t\t\"postdate\":\"20221118\"\n",
      "\t\t},\n",
      "\t\t{\n",
      "\t\t\t\"title\":\"<b>파이썬<\\/b> 자격증 취득 수업 내용 정리!\",\n",
      "\t\t\t\"link\":\"https:\\/\\/blog.naver.com\\/eunoia1017\\/222968873209\",\n",
      "\t\t\t\"description\":\"<b>파이썬<\\/b> 자격증 취득 수업 내용 정리! 많은 분들이 자신의 본 직업이나 N잡으로 코딩 한 번씩은 다... 오늘은 제가 왜 <b>파이썬<\\/b> 자격증을 취득하게 되었는지에 대한 글을 같이 써보려고 해요! <b>파이썬<\\/b> 자격증을... \",\n",
      "\t\t\t\"bloggername\":\"반짝반짝 빛나는\",\n",
      "\t\t\t\"bloggerlink\":\"blog.naver.com\\/eunoia1017\",\n",
      "\t\t\t\"postdate\":\"20221229\"\n",
      "\t\t},\n",
      "\t\t{\n",
      "\t\t\t\"title\":\"<b>파이썬<\\/b> 독학 초보의 코딩 배우기\",\n",
      "\t\t\t\"link\":\"https:\\/\\/blog.naver.com\\/cd34579\\/223031820972\",\n",
      "\t\t\t\"description\":\"생겨서 <b>파이썬<\\/b> 독학을 시작하게 되었습니다. 아직은 아주 기초적인 내용까지 밖에 못 배웠지만, 나름 배우는 게 즐거웠기 때문에 배웠던 과정을 여러분들과 공유해보고자 합니다! 우선 저는 <b>파이썬<\\/b>을 배우게 된... \",\n",
      "\t\t\t\"bloggername\":\"행복바이러스^^\",\n",
      "\t\t\t\"bloggerlink\":\"blog.naver.com\\/cd34579\",\n",
      "\t\t\t\"postdate\":\"20230301\"\n",
      "\t\t},\n",
      "\t\t{\n",
      "\t\t\t\"title\":\"<b>파이썬<\\/b>자격증 학원 다니면서 준비하기!\",\n",
      "\t\t\t\"link\":\"https:\\/\\/blog.naver.com\\/subin_s_humteresting\\/223003132311\",\n",
      "\t\t\t\"description\":\"<b>파이썬<\\/b>자격증에 대한 정보를 잘 알고 있는 게 아니었습니다. 인터넷에 검색해도 뭐가 좋을지 제대로... 그래서 저는 <b>파이썬<\\/b>자격증을 취득하기 전에, 해당 프로그래밍 언어에 대한 기본기부터 배우기로... \",\n",
      "\t\t\t\"bloggername\":\"수빈&apos;s humteresting\",\n",
      "\t\t\t\"bloggerlink\":\"blog.naver.com\\/subin_s_humteresting\",\n",
      "\t\t\t\"postdate\":\"20230202\"\n",
      "\t\t},\n",
      "\t\t{\n",
      "\t\t\t\"title\":\"<b>파이썬<\\/b> 학원 선택 이유 및 수업과정\",\n",
      "\t\t\t\"link\":\"https:\\/\\/blog.naver.com\\/shek99\\/222983518965\",\n",
      "\t\t\t\"description\":\"그 중에서도 <b>파이썬<\\/b> 학원을 선택을 했어요. <b>파이썬<\\/b> 학원을 선택한 이유는 많은 코딩 프로그램 중 <b>파이썬<\\/b>이 가장 좋아 보였기 때문입니다. 이전에는 JAVA나 자바 스크립트, C언어를 많이 배웠는데 인터넷에서 좀... \",\n",
      "\t\t\t\"bloggername\":\"Architect & Humanity 건축 인문\",\n",
      "\t\t\t\"bloggerlink\":\"blog.naver.com\\/shek99\",\n",
      "\t\t\t\"postdate\":\"20230113\"\n",
      "\t\t},\n",
      "\t\t{\n",
      "\t\t\t\"title\":\"<b>파이썬<\\/b> 강의 취업 성공의 필수 학습전략\",\n",
      "\t\t\t\"link\":\"https:\\/\\/blog.naver.com\\/ansoeon\\/222962696977\",\n",
      "\t\t\t\"description\":\"그렇게 앞으로 뭘 하면서 살까 고민하다가 친구의 권유로 <b>파이썬<\\/b> 강의를 듣게 되었습니다. 처음엔 관심... 왜 하필 <b>파이썬<\\/b>이냐고 한다면 기존에 쓰던 프로그래밍 언어는 0과1로만 이루어진 이진수였는데요.... \",\n",
      "\t\t\t\"bloggername\":\"취미부자 짠테커 집사\",\n",
      "\t\t\t\"bloggerlink\":\"blog.naver.com\\/ansoeon\",\n",
      "\t\t\t\"postdate\":\"20221222\"\n",
      "\t\t},\n",
      "\t\t{\n",
      "\t\t\t\"title\":\"<b>파이썬<\\/b>학원 누구나 기초부터 배울 수 있다! 취업까지 성공~\",\n",
      "\t\t\t\"link\":\"https:\\/\\/blog.naver.com\\/cksdlf227\\/222953636388\",\n",
      "\t\t\t\"description\":\"그래서 고민하다 <b>파이썬<\\/b>학원을 다녀보게 되었죠. 원래부터 웹이나 앱 개발 하는 과정 혹은 요즘... 무턱대고 취준을 하기엔 관심만으로 도전할 수 있는 쉬운 분야는 아니다보니 <b>파이썬<\\/b>학원을 다니면서 제대로... \",\n",
      "\t\t\t\"bloggername\":\"타밀&apos;s 추억창고\",\n",
      "\t\t\t\"bloggerlink\":\"blog.naver.com\\/cksdlf227\",\n",
      "\t\t\t\"postdate\":\"20221212\"\n",
      "\t\t},\n",
      "\t\t{\n",
      "\t\t\t\"title\":\"챗gpt AI 인공지능 컴퓨터 프로그래밍 교육 자바 <b>파이썬<\\/b> c언어\",\n",
      "\t\t\t\"link\":\"https:\\/\\/blog.naver.com\\/ijungsun\\/223038693069\",\n",
      "\t\t\t\"description\":\"자바 <b>파이썬<\\/b> c언어 커리큘럼이 준비 되있습니다.) 이 챗 gpt라는 녀석은 인터넷의 방대한 자료를... 먼저는 기초과정으로 #스크래치 #엔트리 #<b>파이썬<\\/b> 이 준비 되있습니다. 아무래도 기초 과정이다보니 가볍게... \",\n",
      "\t\t\t\"bloggername\":\"IT&재미\",\n",
      "\t\t\t\"bloggerlink\":\"blog.naver.com\\/ijungsun\",\n",
      "\t\t\t\"postdate\":\"20230308\"\n",
      "\t\t}\n",
      "\t]\n",
      "}\n"
     ]
    }
   ],
   "metadata": {}
  },
  {
   "cell_type": "code",
   "execution_count": 5,
   "source": [
    "response, response.getcode(), response.code, response.status"
   ],
   "outputs": [
    {
     "output_type": "execute_result",
     "data": {
      "text/plain": [
       "(<http.client.HTTPResponse at 0x25410346d30>, 200, 200, 200)"
      ]
     },
     "metadata": {},
     "execution_count": 5
    }
   ],
   "metadata": {}
  },
  {
   "cell_type": "code",
   "execution_count": 6,
   "source": [
    "# 글자로 읽을 경우, decode utf-8 설정\r\n",
    "print(response_body.decode('utf-8'))"
   ],
   "outputs": [
    {
     "output_type": "stream",
     "name": "stdout",
     "text": [
      "{\n",
      "\t\"lastBuildDate\":\"Wed, 15 Mar 2023 21:40:25 +0900\",\n",
      "\t\"total\":390916,\n",
      "\t\"start\":1,\n",
      "\t\"display\":10,\n",
      "\t\"items\":[\n",
      "\t\t{\n",
      "\t\t\t\"title\":\"<b>파이썬<\\/b>자격증 취득 독학보다 학원이 좋은 이유\",\n",
      "\t\t\t\"link\":\"https:\\/\\/blog.naver.com\\/hyunju7647\\/223021791438\",\n",
      "\t\t\t\"description\":\"그래서 처음으로 코딩을 배워보기 위해 <b>파이썬<\\/b>자격증을 취득하게 되었습니다. <b>파이썬<\\/b>자격증을 가장 먼저 취득한 이유는 기초코딩 중에서 가장 배우기 쉽다고 해서 취득하게 되었는데요. 기초코딩에는 C언어와... \",\n",
      "\t\t\t\"bloggername\":\"슈퍼더블디\",\n",
      "\t\t\t\"bloggerlink\":\"blog.naver.com\\/hyunju7647\",\n",
      "\t\t\t\"postdate\":\"20230220\"\n",
      "\t\t},\n",
      "\t\t{\n",
      "\t\t\t\"title\":\"<b>파이썬<\\/b>학원을 다니면서 공부해야하는 이유\",\n",
      "\t\t\t\"link\":\"https:\\/\\/blog.naver.com\\/sow723\\/223024072662\",\n",
      "\t\t\t\"description\":\"개발자와는 전혀 관계 없던 제가 <b>파이썬<\\/b>학원을 다니면서 이 쪽으로 취업에 성공할 줄이야 아무도... 그래서 일단 비전공자도 쉽게 배울 수 있다는 언어를 배우기 위해서 #<b>파이썬<\\/b>학원 을 다녀보게 되었습니다.... \",\n",
      "\t\t\t\"bloggername\":\"Onelog\",\n",
      "\t\t\t\"bloggerlink\":\"blog.naver.com\\/sow723\",\n",
      "\t\t\t\"postdate\":\"20230222\"\n",
      "\t\t},\n",
      "\t\t{\n",
      "\t\t\t\"title\":\"<b>파이썬<\\/b>학원 초보자를 위한 공부과정!\",\n",
      "\t\t\t\"link\":\"https:\\/\\/blog.naver.com\\/chzhvkdll\\/222931446581\",\n",
      "\t\t\t\"description\":\"그래서 제가 <b>파이썬<\\/b>학원을 다닌 계기과 장단점, 고민에 대해 써보도록 하겠습니다 :) 모두가 같을 수는... <b>파이썬<\\/b>학원 수강 신청한 건 대학 후배 중에 갑자기 전공 무관하게 그쪽으로 턴해서 공부하고 취직했단... \",\n",
      "\t\t\t\"bloggername\":\"에피\",\n",
      "\t\t\t\"bloggerlink\":\"blog.naver.com\\/chzhvkdll\",\n",
      "\t\t\t\"postdate\":\"20221118\"\n",
      "\t\t},\n",
      "\t\t{\n",
      "\t\t\t\"title\":\"<b>파이썬<\\/b> 자격증 취득 수업 내용 정리!\",\n",
      "\t\t\t\"link\":\"https:\\/\\/blog.naver.com\\/eunoia1017\\/222968873209\",\n",
      "\t\t\t\"description\":\"<b>파이썬<\\/b> 자격증 취득 수업 내용 정리! 많은 분들이 자신의 본 직업이나 N잡으로 코딩 한 번씩은 다... 오늘은 제가 왜 <b>파이썬<\\/b> 자격증을 취득하게 되었는지에 대한 글을 같이 써보려고 해요! <b>파이썬<\\/b> 자격증을... \",\n",
      "\t\t\t\"bloggername\":\"반짝반짝 빛나는\",\n",
      "\t\t\t\"bloggerlink\":\"blog.naver.com\\/eunoia1017\",\n",
      "\t\t\t\"postdate\":\"20221229\"\n",
      "\t\t},\n",
      "\t\t{\n",
      "\t\t\t\"title\":\"<b>파이썬<\\/b> 독학 초보의 코딩 배우기\",\n",
      "\t\t\t\"link\":\"https:\\/\\/blog.naver.com\\/cd34579\\/223031820972\",\n",
      "\t\t\t\"description\":\"생겨서 <b>파이썬<\\/b> 독학을 시작하게 되었습니다. 아직은 아주 기초적인 내용까지 밖에 못 배웠지만, 나름 배우는 게 즐거웠기 때문에 배웠던 과정을 여러분들과 공유해보고자 합니다! 우선 저는 <b>파이썬<\\/b>을 배우게 된... \",\n",
      "\t\t\t\"bloggername\":\"행복바이러스^^\",\n",
      "\t\t\t\"bloggerlink\":\"blog.naver.com\\/cd34579\",\n",
      "\t\t\t\"postdate\":\"20230301\"\n",
      "\t\t},\n",
      "\t\t{\n",
      "\t\t\t\"title\":\"<b>파이썬<\\/b>자격증 학원 다니면서 준비하기!\",\n",
      "\t\t\t\"link\":\"https:\\/\\/blog.naver.com\\/subin_s_humteresting\\/223003132311\",\n",
      "\t\t\t\"description\":\"<b>파이썬<\\/b>자격증에 대한 정보를 잘 알고 있는 게 아니었습니다. 인터넷에 검색해도 뭐가 좋을지 제대로... 그래서 저는 <b>파이썬<\\/b>자격증을 취득하기 전에, 해당 프로그래밍 언어에 대한 기본기부터 배우기로... \",\n",
      "\t\t\t\"bloggername\":\"수빈&apos;s humteresting\",\n",
      "\t\t\t\"bloggerlink\":\"blog.naver.com\\/subin_s_humteresting\",\n",
      "\t\t\t\"postdate\":\"20230202\"\n",
      "\t\t},\n",
      "\t\t{\n",
      "\t\t\t\"title\":\"<b>파이썬<\\/b> 학원 선택 이유 및 수업과정\",\n",
      "\t\t\t\"link\":\"https:\\/\\/blog.naver.com\\/shek99\\/222983518965\",\n",
      "\t\t\t\"description\":\"그 중에서도 <b>파이썬<\\/b> 학원을 선택을 했어요. <b>파이썬<\\/b> 학원을 선택한 이유는 많은 코딩 프로그램 중 <b>파이썬<\\/b>이 가장 좋아 보였기 때문입니다. 이전에는 JAVA나 자바 스크립트, C언어를 많이 배웠는데 인터넷에서 좀... \",\n",
      "\t\t\t\"bloggername\":\"Architect & Humanity 건축 인문\",\n",
      "\t\t\t\"bloggerlink\":\"blog.naver.com\\/shek99\",\n",
      "\t\t\t\"postdate\":\"20230113\"\n",
      "\t\t},\n",
      "\t\t{\n",
      "\t\t\t\"title\":\"<b>파이썬<\\/b> 강의 취업 성공의 필수 학습전략\",\n",
      "\t\t\t\"link\":\"https:\\/\\/blog.naver.com\\/ansoeon\\/222962696977\",\n",
      "\t\t\t\"description\":\"그렇게 앞으로 뭘 하면서 살까 고민하다가 친구의 권유로 <b>파이썬<\\/b> 강의를 듣게 되었습니다. 처음엔 관심... 왜 하필 <b>파이썬<\\/b>이냐고 한다면 기존에 쓰던 프로그래밍 언어는 0과1로만 이루어진 이진수였는데요.... \",\n",
      "\t\t\t\"bloggername\":\"취미부자 짠테커 집사\",\n",
      "\t\t\t\"bloggerlink\":\"blog.naver.com\\/ansoeon\",\n",
      "\t\t\t\"postdate\":\"20221222\"\n",
      "\t\t},\n",
      "\t\t{\n",
      "\t\t\t\"title\":\"<b>파이썬<\\/b>학원 누구나 기초부터 배울 수 있다! 취업까지 성공~\",\n",
      "\t\t\t\"link\":\"https:\\/\\/blog.naver.com\\/cksdlf227\\/222953636388\",\n",
      "\t\t\t\"description\":\"그래서 고민하다 <b>파이썬<\\/b>학원을 다녀보게 되었죠. 원래부터 웹이나 앱 개발 하는 과정 혹은 요즘... 무턱대고 취준을 하기엔 관심만으로 도전할 수 있는 쉬운 분야는 아니다보니 <b>파이썬<\\/b>학원을 다니면서 제대로... \",\n",
      "\t\t\t\"bloggername\":\"타밀&apos;s 추억창고\",\n",
      "\t\t\t\"bloggerlink\":\"blog.naver.com\\/cksdlf227\",\n",
      "\t\t\t\"postdate\":\"20221212\"\n",
      "\t\t},\n",
      "\t\t{\n",
      "\t\t\t\"title\":\"챗gpt AI 인공지능 컴퓨터 프로그래밍 교육 자바 <b>파이썬<\\/b> c언어\",\n",
      "\t\t\t\"link\":\"https:\\/\\/blog.naver.com\\/ijungsun\\/223038693069\",\n",
      "\t\t\t\"description\":\"자바 <b>파이썬<\\/b> c언어 커리큘럼이 준비 되있습니다.) 이 챗 gpt라는 녀석은 인터넷의 방대한 자료를... 먼저는 기초과정으로 #스크래치 #엔트리 #<b>파이썬<\\/b> 이 준비 되있습니다. 아무래도 기초 과정이다보니 가볍게... \",\n",
      "\t\t\t\"bloggername\":\"IT&재미\",\n",
      "\t\t\t\"bloggerlink\":\"blog.naver.com\\/ijungsun\",\n",
      "\t\t\t\"postdate\":\"20230308\"\n",
      "\t\t}\n",
      "\t]\n",
      "}\n"
     ]
    }
   ],
   "metadata": {}
  },
  {
   "cell_type": "code",
   "execution_count": 7,
   "source": [
    "# 파이썬 내용이 들어간 검색\r\n",
    "# 검색: 영화(movie)\r\n",
    "# 검색: 카페(cafearticle)\r\n",
    "# 검색: 쇼핑(shop)\r\n",
    "# 검색: 백과사전(encyc)"
   ],
   "outputs": [],
   "metadata": {}
  },
  {
   "cell_type": "markdown",
   "source": [
    "## 3. 상품 검색\r\n",
    "- '몰스킨'"
   ],
   "metadata": {}
  },
  {
   "cell_type": "code",
   "execution_count": 8,
   "source": [
    "# 네이버 검색 Open API 예제 - 쇼핑몰에서 검색된 몰스킨 정보들\r\n",
    "\r\n",
    "import os\r\n",
    "import sys\r\n",
    "import urllib.request\r\n",
    "\r\n",
    "client_id = \"3nWMTmF4NdtMZlfadGDX\"\r\n",
    "client_secret = \"bk9r1RK4H0\"\r\n",
    "\r\n",
    "encText = urllib.parse.quote(\"몰스킨\")\r\n",
    "url = \"https://openapi.naver.com/v1/search/shop?query=\" + encText # json 결과\r\n",
    "# url = \"https://openapi.naver.com/v1/search/blog.xml?query=\" + encText # xml 결과\r\n",
    "request = urllib.request.Request(url)\r\n",
    "request.add_header(\"X-Naver-Client-Id\",client_id)\r\n",
    "request.add_header(\"X-Naver-Client-Secret\",client_secret)\r\n",
    "response = urllib.request.urlopen(request)\r\n",
    "rescode = response.getcode()\r\n",
    "if(rescode==200):\r\n",
    "    response_body = response.read()\r\n",
    "    print(response_body.decode('utf-8'))\r\n",
    "else:\r\n",
    "    print(\"Error Code:\" + rescode)"
   ],
   "outputs": [
    {
     "output_type": "stream",
     "name": "stdout",
     "text": [
      "{\n",
      "\t\"lastBuildDate\":\"Wed, 15 Mar 2023 21:40:26 +0900\",\n",
      "\t\"total\":36654,\n",
      "\t\"start\":1,\n",
      "\t\"display\":10,\n",
      "\t\"items\":[\n",
      "\t\t{\n",
      "\t\t\t\"title\":\"<b>몰스킨<\\/b> 노트 가죽 하드커버 감성 고급 업무용 이쁜 심플\",\n",
      "\t\t\t\"link\":\"https:\\/\\/search.shopping.naver.com\\/gate.nhn?id=82526953942\",\n",
      "\t\t\t\"image\":\"https:\\/\\/shopping-phinf.pstatic.net\\/main_8252695\\/82526953942.7.jpg\",\n",
      "\t\t\t\"lprice\":\"28800\",\n",
      "\t\t\t\"hprice\":\"\",\n",
      "\t\t\t\"mallName\":\"베스트펜\",\n",
      "\t\t\t\"productId\":\"82526953942\",\n",
      "\t\t\t\"productType\":\"2\",\n",
      "\t\t\t\"brand\":\"몰스킨\",\n",
      "\t\t\t\"maker\":\"\",\n",
      "\t\t\t\"category1\":\"생활\\/건강\",\n",
      "\t\t\t\"category2\":\"문구\\/사무용품\",\n",
      "\t\t\t\"category3\":\"노트\\/수첩\",\n",
      "\t\t\t\"category4\":\"노트\"\n",
      "\t\t},\n",
      "\t\t{\n",
      "\t\t\t\"title\":\"빈폴 BEAN POLE 카키 <b>몰스킨<\\/b> 프렌치 워크 재킷 291119\",\n",
      "\t\t\t\"link\":\"https:\\/\\/search.shopping.naver.com\\/gate.nhn?id=35704136246\",\n",
      "\t\t\t\"image\":\"https:\\/\\/shopping-phinf.pstatic.net\\/main_3570413\\/35704136246.20230305082320.jpg\",\n",
      "\t\t\t\"lprice\":\"183300\",\n",
      "\t\t\t\"hprice\":\"\",\n",
      "\t\t\t\"mallName\":\"네이버\",\n",
      "\t\t\t\"productId\":\"35704136246\",\n",
      "\t\t\t\"productType\":\"1\",\n",
      "\t\t\t\"brand\":\"빈폴\",\n",
      "\t\t\t\"maker\":\"\",\n",
      "\t\t\t\"category1\":\"패션의류\",\n",
      "\t\t\t\"category2\":\"남성의류\",\n",
      "\t\t\t\"category3\":\"재킷\",\n",
      "\t\t\t\"category4\":\"\"\n",
      "\t\t},\n",
      "\t\t{\n",
      "\t\t\t\"title\":\"<b>Moleskine<\\/b> 2023년 데일리 플래너 12M 포켓 하드 커버 3 5 x 5 5 - <b>몰스킨<\\/b>\",\n",
      "\t\t\t\"link\":\"https:\\/\\/search.shopping.naver.com\\/gate.nhn?id=36557437115\",\n",
      "\t\t\t\"image\":\"https:\\/\\/shopping-phinf.pstatic.net\\/main_3655743\\/36557437115.20221216090445.jpg\",\n",
      "\t\t\t\"lprice\":\"30200\",\n",
      "\t\t\t\"hprice\":\"\",\n",
      "\t\t\t\"mallName\":\"네이버\",\n",
      "\t\t\t\"productId\":\"36557437115\",\n",
      "\t\t\t\"productType\":\"1\",\n",
      "\t\t\t\"brand\":\"몰스킨\",\n",
      "\t\t\t\"maker\":\"\",\n",
      "\t\t\t\"category1\":\"생활\\/건강\",\n",
      "\t\t\t\"category2\":\"문구\\/사무용품\",\n",
      "\t\t\t\"category3\":\"다이어리\\/플래너\",\n",
      "\t\t\t\"category4\":\"다이어리\"\n",
      "\t\t},\n",
      "\t\t{\n",
      "\t\t\t\"title\":\"2023년 <b>몰스킨<\\/b> 하드커버 다이어리(데일리, 위클리, 한정판)\",\n",
      "\t\t\t\"link\":\"https:\\/\\/search.shopping.naver.com\\/gate.nhn?id=84904377827\",\n",
      "\t\t\t\"image\":\"https:\\/\\/shopping-phinf.pstatic.net\\/main_8490437\\/84904377827.1.jpg\",\n",
      "\t\t\t\"lprice\":\"20000\",\n",
      "\t\t\t\"hprice\":\"\",\n",
      "\t\t\t\"mallName\":\"안네프랑크\",\n",
      "\t\t\t\"productId\":\"84904377827\",\n",
      "\t\t\t\"productType\":\"2\",\n",
      "\t\t\t\"brand\":\"몰스킨\",\n",
      "\t\t\t\"maker\":\"몰스킨\",\n",
      "\t\t\t\"category1\":\"생활\\/건강\",\n",
      "\t\t\t\"category2\":\"문구\\/사무용품\",\n",
      "\t\t\t\"category3\":\"다이어리\\/플래너\",\n",
      "\t\t\t\"category4\":\"다이어리\"\n",
      "\t\t},\n",
      "\t\t{\n",
      "\t\t\t\"title\":\"올젠 남성 <b>몰스킨<\\/b> 캐주얼 자켓 ZOC3KG1312\",\n",
      "\t\t\t\"link\":\"https:\\/\\/search.shopping.naver.com\\/gate.nhn?id=35208615998\",\n",
      "\t\t\t\"image\":\"https:\\/\\/shopping-phinf.pstatic.net\\/main_3520861\\/35208615998.20221013140603.jpg\",\n",
      "\t\t\t\"lprice\":\"117650\",\n",
      "\t\t\t\"hprice\":\"\",\n",
      "\t\t\t\"mallName\":\"네이버\",\n",
      "\t\t\t\"productId\":\"35208615998\",\n",
      "\t\t\t\"productType\":\"1\",\n",
      "\t\t\t\"brand\":\"올젠\",\n",
      "\t\t\t\"maker\":\"\",\n",
      "\t\t\t\"category1\":\"패션의류\",\n",
      "\t\t\t\"category2\":\"남성의류\",\n",
      "\t\t\t\"category3\":\"재킷\",\n",
      "\t\t\t\"category4\":\"\"\n",
      "\t\t},\n",
      "\t\t{\n",
      "\t\t\t\"title\":\"<b>몰스킨<\\/b> 클래식노트 플레인 소프트커버 포켓 Pocket\",\n",
      "\t\t\t\"link\":\"https:\\/\\/search.shopping.naver.com\\/gate.nhn?id=30656121375\",\n",
      "\t\t\t\"image\":\"https:\\/\\/shopping-phinf.pstatic.net\\/main_3065612\\/30656121375.20220124025746.jpg\",\n",
      "\t\t\t\"lprice\":\"18795\",\n",
      "\t\t\t\"hprice\":\"\",\n",
      "\t\t\t\"mallName\":\"네이버\",\n",
      "\t\t\t\"productId\":\"30656121375\",\n",
      "\t\t\t\"productType\":\"1\",\n",
      "\t\t\t\"brand\":\"몰스킨\",\n",
      "\t\t\t\"maker\":\"\",\n",
      "\t\t\t\"category1\":\"생활\\/건강\",\n",
      "\t\t\t\"category2\":\"문구\\/사무용품\",\n",
      "\t\t\t\"category3\":\"노트\\/수첩\",\n",
      "\t\t\t\"category4\":\"노트\"\n",
      "\t\t},\n",
      "\t\t{\n",
      "\t\t\t\"title\":\"<b>몰스킨<\\/b> 2023위클리 스칼렛레드 하드 L\",\n",
      "\t\t\t\"link\":\"https:\\/\\/search.shopping.naver.com\\/gate.nhn?id=32288589870\",\n",
      "\t\t\t\"image\":\"https:\\/\\/shopping-phinf.pstatic.net\\/main_3228858\\/32288589870.20230104072413.jpg\",\n",
      "\t\t\t\"lprice\":\"18500\",\n",
      "\t\t\t\"hprice\":\"\",\n",
      "\t\t\t\"mallName\":\"네이버\",\n",
      "\t\t\t\"productId\":\"32288589870\",\n",
      "\t\t\t\"productType\":\"1\",\n",
      "\t\t\t\"brand\":\"몰스킨\",\n",
      "\t\t\t\"maker\":\"\",\n",
      "\t\t\t\"category1\":\"생활\\/건강\",\n",
      "\t\t\t\"category2\":\"문구\\/사무용품\",\n",
      "\t\t\t\"category3\":\"다이어리\\/플래너\",\n",
      "\t\t\t\"category4\":\"다이어리\"\n",
      "\t\t},\n",
      "\t\t{\n",
      "\t\t\t\"title\":\"인디안 오리지널 <b>몰스킨<\\/b> 셋업 자켓 MITFAWF9101 P002564597\",\n",
      "\t\t\t\"link\":\"https:\\/\\/search.shopping.naver.com\\/gate.nhn?id=35708614622\",\n",
      "\t\t\t\"image\":\"https:\\/\\/shopping-phinf.pstatic.net\\/main_3570861\\/35708614622.20230310094227.jpg\",\n",
      "\t\t\t\"lprice\":\"48950\",\n",
      "\t\t\t\"hprice\":\"\",\n",
      "\t\t\t\"mallName\":\"네이버\",\n",
      "\t\t\t\"productId\":\"35708614622\",\n",
      "\t\t\t\"productType\":\"1\",\n",
      "\t\t\t\"brand\":\"인디안\",\n",
      "\t\t\t\"maker\":\"\",\n",
      "\t\t\t\"category1\":\"패션의류\",\n",
      "\t\t\t\"category2\":\"남성의류\",\n",
      "\t\t\t\"category3\":\"재킷\",\n",
      "\t\t\t\"category4\":\"\"\n",
      "\t\t},\n",
      "\t\t{\n",
      "\t\t\t\"title\":\"빈폴 22FW <b>몰스킨<\\/b> 프렌치 워크 재킷 BC2911C19P\",\n",
      "\t\t\t\"link\":\"https:\\/\\/search.shopping.naver.com\\/gate.nhn?id=38120555265\",\n",
      "\t\t\t\"image\":\"https:\\/\\/shopping-phinf.pstatic.net\\/main_3812055\\/38120555265.20230305164101.jpg\",\n",
      "\t\t\t\"lprice\":\"228760\",\n",
      "\t\t\t\"hprice\":\"\",\n",
      "\t\t\t\"mallName\":\"네이버\",\n",
      "\t\t\t\"productId\":\"38120555265\",\n",
      "\t\t\t\"productType\":\"1\",\n",
      "\t\t\t\"brand\":\"빈폴\",\n",
      "\t\t\t\"maker\":\"\",\n",
      "\t\t\t\"category1\":\"패션의류\",\n",
      "\t\t\t\"category2\":\"남성의류\",\n",
      "\t\t\t\"category3\":\"재킷\",\n",
      "\t\t\t\"category4\":\"\"\n",
      "\t\t},\n",
      "\t\t{\n",
      "\t\t\t\"title\":\"2023 스타벅스 다이어리 프리퀀시 그린 플래너\",\n",
      "\t\t\t\"link\":\"https:\\/\\/search.shopping.naver.com\\/gate.nhn?id=85132105601\",\n",
      "\t\t\t\"image\":\"https:\\/\\/shopping-phinf.pstatic.net\\/main_8513210\\/85132105601.jpg\",\n",
      "\t\t\t\"lprice\":\"32900\",\n",
      "\t\t\t\"hprice\":\"\",\n",
      "\t\t\t\"mallName\":\"한정판매니아\",\n",
      "\t\t\t\"productId\":\"85132105601\",\n",
      "\t\t\t\"productType\":\"2\",\n",
      "\t\t\t\"brand\":\"스타벅스\",\n",
      "\t\t\t\"maker\":\"몰스킨\",\n",
      "\t\t\t\"category1\":\"생활\\/건강\",\n",
      "\t\t\t\"category2\":\"문구\\/사무용품\",\n",
      "\t\t\t\"category3\":\"다이어리\\/플래너\",\n",
      "\t\t\t\"category4\":\"다이어리\"\n",
      "\t\t}\n",
      "\t]\n",
      "}\n"
     ]
    }
   ],
   "metadata": {}
  },
  {
   "cell_type": "markdown",
   "source": [
    "## (1) gen_search_url( )"
   ],
   "metadata": {}
  },
  {
   "cell_type": "markdown",
   "source": [
    "```\r\n",
    "encText = urllib.parse.quote(\"몰스킨\")\r\n",
    "url = \"https://openapi.naver.com/v1/search/shop?query=\" + encText # json 결과\r\n",
    "```"
   ],
   "metadata": {}
  },
  {
   "cell_type": "code",
   "execution_count": 9,
   "source": [
    "def gen_search_url(api_node, search_text, start_num, disp_num):\r\n",
    "    base = 'https://openapi.naver.com/v1/search'\r\n",
    "    node = '/' + api_node + '.json'  # 어디에다 요청할 것인지\r\n",
    "    param_query = '?query=' + urllib.parse.quote(search_text)  # 여기서 서치텍스트는 몰스킨\r\n",
    "    param_start = '&start=' + str(start_num)\r\n",
    "    param_disp = '&display=' + str(disp_num)\r\n",
    "\r\n",
    "    return base + node + param_query + param_start + param_disp"
   ],
   "outputs": [],
   "metadata": {}
  },
  {
   "cell_type": "code",
   "execution_count": 10,
   "source": [
    "gen_search_url('shop', 'TEST', 10, 3)"
   ],
   "outputs": [
    {
     "output_type": "execute_result",
     "data": {
      "text/plain": [
       "'https://openapi.naver.com/v1/search/shop.json?query=TEST&start=10&display=3'"
      ]
     },
     "metadata": {},
     "execution_count": 10
    }
   ],
   "metadata": {}
  },
  {
   "cell_type": "markdown",
   "source": [
    "## (2) get_result_onepage( )\r\n",
    "### 하나의 페이지에서 데이터를 받아오는 것"
   ],
   "metadata": {}
  },
  {
   "cell_type": "code",
   "execution_count": 11,
   "source": [
    "import json\r\n",
    "import datetime\r\n",
    "def get_result_onepage(url):\r\n",
    "    request = urllib.request.Request(url)\r\n",
    "    request.add_header(\"X-Naver-Client-Id\",client_id)\r\n",
    "    request.add_header(\"X-Naver-Client-Secret\",client_secret)\r\n",
    "    response = urllib.request.urlopen(request)\r\n",
    "    print('[%s] url request success' % datetime.datetime.now())\r\n",
    "    return json.loads(response.read().decode('utf-8'))\r\n",
    "    "
   ],
   "outputs": [],
   "metadata": {}
  },
  {
   "cell_type": "code",
   "execution_count": 12,
   "source": [
    "url = gen_search_url('shop', '몰스킨', 1, 5)\r\n",
    "one_result = get_result_onepage(url)"
   ],
   "outputs": [
    {
     "output_type": "stream",
     "name": "stdout",
     "text": [
      "[2023-03-15 21:40:27.267980] url request success\n"
     ]
    }
   ],
   "metadata": {}
  },
  {
   "cell_type": "code",
   "execution_count": 13,
   "source": [
    "one_result['items'][0]['title']"
   ],
   "outputs": [
    {
     "output_type": "execute_result",
     "data": {
      "text/plain": [
       "'<b>몰스킨</b> 노트 가죽 하드커버 감성 고급 업무용 이쁜 심플'"
      ]
     },
     "metadata": {},
     "execution_count": 13
    }
   ],
   "metadata": {}
  },
  {
   "cell_type": "markdown",
   "source": [
    "## (3) get_fields( )"
   ],
   "metadata": {}
  },
  {
   "cell_type": "code",
   "execution_count": 14,
   "source": [
    "one_result"
   ],
   "outputs": [
    {
     "output_type": "execute_result",
     "data": {
      "text/plain": [
       "{'lastBuildDate': 'Wed, 15 Mar 2023 21:40:27 +0900',\n",
       " 'total': 36654,\n",
       " 'start': 1,\n",
       " 'display': 5,\n",
       " 'items': [{'title': '<b>몰스킨</b> 노트 가죽 하드커버 감성 고급 업무용 이쁜 심플',\n",
       "   'link': 'https://search.shopping.naver.com/gate.nhn?id=82526953942',\n",
       "   'image': 'https://shopping-phinf.pstatic.net/main_8252695/82526953942.7.jpg',\n",
       "   'lprice': '28800',\n",
       "   'hprice': '',\n",
       "   'mallName': '베스트펜',\n",
       "   'productId': '82526953942',\n",
       "   'productType': '2',\n",
       "   'brand': '몰스킨',\n",
       "   'maker': '',\n",
       "   'category1': '생활/건강',\n",
       "   'category2': '문구/사무용품',\n",
       "   'category3': '노트/수첩',\n",
       "   'category4': '노트'},\n",
       "  {'title': '빈폴 BEAN POLE 카키 <b>몰스킨</b> 프렌치 워크 재킷 291119',\n",
       "   'link': 'https://search.shopping.naver.com/gate.nhn?id=35704136246',\n",
       "   'image': 'https://shopping-phinf.pstatic.net/main_3570413/35704136246.20230305082320.jpg',\n",
       "   'lprice': '183300',\n",
       "   'hprice': '',\n",
       "   'mallName': '네이버',\n",
       "   'productId': '35704136246',\n",
       "   'productType': '1',\n",
       "   'brand': '빈폴',\n",
       "   'maker': '',\n",
       "   'category1': '패션의류',\n",
       "   'category2': '남성의류',\n",
       "   'category3': '재킷',\n",
       "   'category4': ''},\n",
       "  {'title': '<b>Moleskine</b> 2023년 데일리 플래너 12M 포켓 하드 커버 3 5 x 5 5 - <b>몰스킨</b>',\n",
       "   'link': 'https://search.shopping.naver.com/gate.nhn?id=36557437115',\n",
       "   'image': 'https://shopping-phinf.pstatic.net/main_3655743/36557437115.20221216090445.jpg',\n",
       "   'lprice': '30200',\n",
       "   'hprice': '',\n",
       "   'mallName': '네이버',\n",
       "   'productId': '36557437115',\n",
       "   'productType': '1',\n",
       "   'brand': '몰스킨',\n",
       "   'maker': '',\n",
       "   'category1': '생활/건강',\n",
       "   'category2': '문구/사무용품',\n",
       "   'category3': '다이어리/플래너',\n",
       "   'category4': '다이어리'},\n",
       "  {'title': '2023년 <b>몰스킨</b> 하드커버 다이어리(데일리, 위클리, 한정판)',\n",
       "   'link': 'https://search.shopping.naver.com/gate.nhn?id=84904377827',\n",
       "   'image': 'https://shopping-phinf.pstatic.net/main_8490437/84904377827.1.jpg',\n",
       "   'lprice': '20000',\n",
       "   'hprice': '',\n",
       "   'mallName': '안네프랑크',\n",
       "   'productId': '84904377827',\n",
       "   'productType': '2',\n",
       "   'brand': '몰스킨',\n",
       "   'maker': '몰스킨',\n",
       "   'category1': '생활/건강',\n",
       "   'category2': '문구/사무용품',\n",
       "   'category3': '다이어리/플래너',\n",
       "   'category4': '다이어리'},\n",
       "  {'title': '올젠 남성 <b>몰스킨</b> 캐주얼 자켓 ZOC3KG1312',\n",
       "   'link': 'https://search.shopping.naver.com/gate.nhn?id=35208615998',\n",
       "   'image': 'https://shopping-phinf.pstatic.net/main_3520861/35208615998.20221013140603.jpg',\n",
       "   'lprice': '117650',\n",
       "   'hprice': '',\n",
       "   'mallName': '네이버',\n",
       "   'productId': '35208615998',\n",
       "   'productType': '1',\n",
       "   'brand': '올젠',\n",
       "   'maker': '',\n",
       "   'category1': '패션의류',\n",
       "   'category2': '남성의류',\n",
       "   'category3': '재킷',\n",
       "   'category4': ''}]}"
      ]
     },
     "metadata": {},
     "execution_count": 14
    }
   ],
   "metadata": {}
  },
  {
   "cell_type": "code",
   "execution_count": 15,
   "source": [
    "import pandas as pd\r\n",
    "\r\n",
    "def get_fields(json_data):\r\n",
    "    title = [each['title'] for each in json_data['items']]\r\n",
    "    link = [each['link'] for each in json_data['items']]\r\n",
    "    lprice = [each['lprice'] for each in json_data['items']]\r\n",
    "    mall_name = [each['mallName'] for each in json_data['items']]\r\n",
    "\r\n",
    "    result_pd = pd.DataFrame({\r\n",
    "        'title':title,\r\n",
    "        'link':link,\r\n",
    "        'lprice':lprice,\r\n",
    "        'mall':mall_name\r\n",
    "\r\n",
    "    }, columns=['title','lprice','link','mall'])\r\n",
    "    return result_pd"
   ],
   "outputs": [],
   "metadata": {}
  },
  {
   "cell_type": "code",
   "execution_count": 16,
   "source": [
    "get_fields(one_result)"
   ],
   "outputs": [
    {
     "output_type": "execute_result",
     "data": {
      "text/html": [
       "<div>\n",
       "<style scoped>\n",
       "    .dataframe tbody tr th:only-of-type {\n",
       "        vertical-align: middle;\n",
       "    }\n",
       "\n",
       "    .dataframe tbody tr th {\n",
       "        vertical-align: top;\n",
       "    }\n",
       "\n",
       "    .dataframe thead th {\n",
       "        text-align: right;\n",
       "    }\n",
       "</style>\n",
       "<table border=\"1\" class=\"dataframe\">\n",
       "  <thead>\n",
       "    <tr style=\"text-align: right;\">\n",
       "      <th></th>\n",
       "      <th>title</th>\n",
       "      <th>lprice</th>\n",
       "      <th>link</th>\n",
       "      <th>mall</th>\n",
       "    </tr>\n",
       "  </thead>\n",
       "  <tbody>\n",
       "    <tr>\n",
       "      <th>0</th>\n",
       "      <td>&lt;b&gt;몰스킨&lt;/b&gt; 노트 가죽 하드커버 감성 고급 업무용 이쁜 심플</td>\n",
       "      <td>28800</td>\n",
       "      <td>https://search.shopping.naver.com/gate.nhn?id=...</td>\n",
       "      <td>베스트펜</td>\n",
       "    </tr>\n",
       "    <tr>\n",
       "      <th>1</th>\n",
       "      <td>빈폴 BEAN POLE 카키 &lt;b&gt;몰스킨&lt;/b&gt; 프렌치 워크 재킷 291119</td>\n",
       "      <td>183300</td>\n",
       "      <td>https://search.shopping.naver.com/gate.nhn?id=...</td>\n",
       "      <td>네이버</td>\n",
       "    </tr>\n",
       "    <tr>\n",
       "      <th>2</th>\n",
       "      <td>&lt;b&gt;Moleskine&lt;/b&gt; 2023년 데일리 플래너 12M 포켓 하드 커버 3 ...</td>\n",
       "      <td>30200</td>\n",
       "      <td>https://search.shopping.naver.com/gate.nhn?id=...</td>\n",
       "      <td>네이버</td>\n",
       "    </tr>\n",
       "    <tr>\n",
       "      <th>3</th>\n",
       "      <td>2023년 &lt;b&gt;몰스킨&lt;/b&gt; 하드커버 다이어리(데일리, 위클리, 한정판)</td>\n",
       "      <td>20000</td>\n",
       "      <td>https://search.shopping.naver.com/gate.nhn?id=...</td>\n",
       "      <td>안네프랑크</td>\n",
       "    </tr>\n",
       "    <tr>\n",
       "      <th>4</th>\n",
       "      <td>올젠 남성 &lt;b&gt;몰스킨&lt;/b&gt; 캐주얼 자켓 ZOC3KG1312</td>\n",
       "      <td>117650</td>\n",
       "      <td>https://search.shopping.naver.com/gate.nhn?id=...</td>\n",
       "      <td>네이버</td>\n",
       "    </tr>\n",
       "  </tbody>\n",
       "</table>\n",
       "</div>"
      ],
      "text/plain": [
       "                                               title  lprice  \\\n",
       "0              <b>몰스킨</b> 노트 가죽 하드커버 감성 고급 업무용 이쁜 심플   28800   \n",
       "1        빈폴 BEAN POLE 카키 <b>몰스킨</b> 프렌치 워크 재킷 291119  183300   \n",
       "2  <b>Moleskine</b> 2023년 데일리 플래너 12M 포켓 하드 커버 3 ...   30200   \n",
       "3          2023년 <b>몰스킨</b> 하드커버 다이어리(데일리, 위클리, 한정판)   20000   \n",
       "4                 올젠 남성 <b>몰스킨</b> 캐주얼 자켓 ZOC3KG1312  117650   \n",
       "\n",
       "                                                link   mall  \n",
       "0  https://search.shopping.naver.com/gate.nhn?id=...   베스트펜  \n",
       "1  https://search.shopping.naver.com/gate.nhn?id=...    네이버  \n",
       "2  https://search.shopping.naver.com/gate.nhn?id=...    네이버  \n",
       "3  https://search.shopping.naver.com/gate.nhn?id=...  안네프랑크  \n",
       "4  https://search.shopping.naver.com/gate.nhn?id=...    네이버  "
      ]
     },
     "metadata": {},
     "execution_count": 16
    }
   ],
   "metadata": {}
  },
  {
   "cell_type": "markdown",
   "source": [
    "## (4) delete_tag( )"
   ],
   "metadata": {}
  },
  {
   "cell_type": "code",
   "execution_count": 17,
   "source": [
    "def delete_tag(input_str):\r\n",
    "    input_str = input_str.replace('<b>', '')\r\n",
    "    input_str = input_str.replace('</b>', '')\r\n",
    "    return input_str\r\n"
   ],
   "outputs": [],
   "metadata": {}
  },
  {
   "cell_type": "code",
   "execution_count": 18,
   "source": [
    "import pandas as pd\r\n",
    "\r\n",
    "def get_fields(json_data):\r\n",
    "    title = [delete_tag(each['title']) for each in json_data['items']]\r\n",
    "    link = [each['link'] for each in json_data['items']]\r\n",
    "    lprice = [each['lprice'] for each in json_data['items']]\r\n",
    "    mall_name = [each['mallName'] for each in json_data['items']]\r\n",
    "\r\n",
    "    result_pd = pd.DataFrame({\r\n",
    "        'title':title,\r\n",
    "        'link':link,\r\n",
    "        'lprice':lprice,\r\n",
    "        'mall':mall_name\r\n",
    "\r\n",
    "    }, columns=['title','lprice','link','mall'])\r\n",
    "    return result_pd"
   ],
   "outputs": [],
   "metadata": {}
  },
  {
   "cell_type": "code",
   "execution_count": 19,
   "source": [
    "get_fields(one_result)"
   ],
   "outputs": [
    {
     "output_type": "execute_result",
     "data": {
      "text/html": [
       "<div>\n",
       "<style scoped>\n",
       "    .dataframe tbody tr th:only-of-type {\n",
       "        vertical-align: middle;\n",
       "    }\n",
       "\n",
       "    .dataframe tbody tr th {\n",
       "        vertical-align: top;\n",
       "    }\n",
       "\n",
       "    .dataframe thead th {\n",
       "        text-align: right;\n",
       "    }\n",
       "</style>\n",
       "<table border=\"1\" class=\"dataframe\">\n",
       "  <thead>\n",
       "    <tr style=\"text-align: right;\">\n",
       "      <th></th>\n",
       "      <th>title</th>\n",
       "      <th>lprice</th>\n",
       "      <th>link</th>\n",
       "      <th>mall</th>\n",
       "    </tr>\n",
       "  </thead>\n",
       "  <tbody>\n",
       "    <tr>\n",
       "      <th>0</th>\n",
       "      <td>몰스킨 노트 가죽 하드커버 감성 고급 업무용 이쁜 심플</td>\n",
       "      <td>28800</td>\n",
       "      <td>https://search.shopping.naver.com/gate.nhn?id=...</td>\n",
       "      <td>베스트펜</td>\n",
       "    </tr>\n",
       "    <tr>\n",
       "      <th>1</th>\n",
       "      <td>빈폴 BEAN POLE 카키 몰스킨 프렌치 워크 재킷 291119</td>\n",
       "      <td>183300</td>\n",
       "      <td>https://search.shopping.naver.com/gate.nhn?id=...</td>\n",
       "      <td>네이버</td>\n",
       "    </tr>\n",
       "    <tr>\n",
       "      <th>2</th>\n",
       "      <td>Moleskine 2023년 데일리 플래너 12M 포켓 하드 커버 3 5 x 5 5...</td>\n",
       "      <td>30200</td>\n",
       "      <td>https://search.shopping.naver.com/gate.nhn?id=...</td>\n",
       "      <td>네이버</td>\n",
       "    </tr>\n",
       "    <tr>\n",
       "      <th>3</th>\n",
       "      <td>2023년 몰스킨 하드커버 다이어리(데일리, 위클리, 한정판)</td>\n",
       "      <td>20000</td>\n",
       "      <td>https://search.shopping.naver.com/gate.nhn?id=...</td>\n",
       "      <td>안네프랑크</td>\n",
       "    </tr>\n",
       "    <tr>\n",
       "      <th>4</th>\n",
       "      <td>올젠 남성 몰스킨 캐주얼 자켓 ZOC3KG1312</td>\n",
       "      <td>117650</td>\n",
       "      <td>https://search.shopping.naver.com/gate.nhn?id=...</td>\n",
       "      <td>네이버</td>\n",
       "    </tr>\n",
       "  </tbody>\n",
       "</table>\n",
       "</div>"
      ],
      "text/plain": [
       "                                               title  lprice  \\\n",
       "0                     몰스킨 노트 가죽 하드커버 감성 고급 업무용 이쁜 심플   28800   \n",
       "1               빈폴 BEAN POLE 카키 몰스킨 프렌치 워크 재킷 291119  183300   \n",
       "2  Moleskine 2023년 데일리 플래너 12M 포켓 하드 커버 3 5 x 5 5...   30200   \n",
       "3                 2023년 몰스킨 하드커버 다이어리(데일리, 위클리, 한정판)   20000   \n",
       "4                        올젠 남성 몰스킨 캐주얼 자켓 ZOC3KG1312  117650   \n",
       "\n",
       "                                                link   mall  \n",
       "0  https://search.shopping.naver.com/gate.nhn?id=...   베스트펜  \n",
       "1  https://search.shopping.naver.com/gate.nhn?id=...    네이버  \n",
       "2  https://search.shopping.naver.com/gate.nhn?id=...    네이버  \n",
       "3  https://search.shopping.naver.com/gate.nhn?id=...  안네프랑크  \n",
       "4  https://search.shopping.naver.com/gate.nhn?id=...    네이버  "
      ]
     },
     "metadata": {},
     "execution_count": 19
    }
   ],
   "metadata": {}
  },
  {
   "cell_type": "code",
   "execution_count": 20,
   "source": [
    "url = gen_search_url('shop', '몰스킨', 1, 5)\r\n",
    "json_result = get_result_onepage(url)\r\n",
    "pd_result = get_fields(json_result)"
   ],
   "outputs": [
    {
     "output_type": "stream",
     "name": "stdout",
     "text": [
      "[2023-03-15 21:40:29.125852] url request success\n"
     ]
    }
   ],
   "metadata": {}
  },
  {
   "cell_type": "code",
   "execution_count": 21,
   "source": [
    "pd_result"
   ],
   "outputs": [
    {
     "output_type": "execute_result",
     "data": {
      "text/html": [
       "<div>\n",
       "<style scoped>\n",
       "    .dataframe tbody tr th:only-of-type {\n",
       "        vertical-align: middle;\n",
       "    }\n",
       "\n",
       "    .dataframe tbody tr th {\n",
       "        vertical-align: top;\n",
       "    }\n",
       "\n",
       "    .dataframe thead th {\n",
       "        text-align: right;\n",
       "    }\n",
       "</style>\n",
       "<table border=\"1\" class=\"dataframe\">\n",
       "  <thead>\n",
       "    <tr style=\"text-align: right;\">\n",
       "      <th></th>\n",
       "      <th>title</th>\n",
       "      <th>lprice</th>\n",
       "      <th>link</th>\n",
       "      <th>mall</th>\n",
       "    </tr>\n",
       "  </thead>\n",
       "  <tbody>\n",
       "    <tr>\n",
       "      <th>0</th>\n",
       "      <td>몰스킨 노트 가죽 하드커버 감성 고급 업무용 이쁜 심플</td>\n",
       "      <td>28800</td>\n",
       "      <td>https://search.shopping.naver.com/gate.nhn?id=...</td>\n",
       "      <td>베스트펜</td>\n",
       "    </tr>\n",
       "    <tr>\n",
       "      <th>1</th>\n",
       "      <td>빈폴 BEAN POLE 카키 몰스킨 프렌치 워크 재킷 291119</td>\n",
       "      <td>183300</td>\n",
       "      <td>https://search.shopping.naver.com/gate.nhn?id=...</td>\n",
       "      <td>네이버</td>\n",
       "    </tr>\n",
       "    <tr>\n",
       "      <th>2</th>\n",
       "      <td>Moleskine 2023년 데일리 플래너 12M 포켓 하드 커버 3 5 x 5 5...</td>\n",
       "      <td>30200</td>\n",
       "      <td>https://search.shopping.naver.com/gate.nhn?id=...</td>\n",
       "      <td>네이버</td>\n",
       "    </tr>\n",
       "    <tr>\n",
       "      <th>3</th>\n",
       "      <td>2023년 몰스킨 하드커버 다이어리(데일리, 위클리, 한정판)</td>\n",
       "      <td>20000</td>\n",
       "      <td>https://search.shopping.naver.com/gate.nhn?id=...</td>\n",
       "      <td>안네프랑크</td>\n",
       "    </tr>\n",
       "    <tr>\n",
       "      <th>4</th>\n",
       "      <td>올젠 남성 몰스킨 캐주얼 자켓 ZOC3KG1312</td>\n",
       "      <td>117650</td>\n",
       "      <td>https://search.shopping.naver.com/gate.nhn?id=...</td>\n",
       "      <td>네이버</td>\n",
       "    </tr>\n",
       "  </tbody>\n",
       "</table>\n",
       "</div>"
      ],
      "text/plain": [
       "                                               title  lprice  \\\n",
       "0                     몰스킨 노트 가죽 하드커버 감성 고급 업무용 이쁜 심플   28800   \n",
       "1               빈폴 BEAN POLE 카키 몰스킨 프렌치 워크 재킷 291119  183300   \n",
       "2  Moleskine 2023년 데일리 플래너 12M 포켓 하드 커버 3 5 x 5 5...   30200   \n",
       "3                 2023년 몰스킨 하드커버 다이어리(데일리, 위클리, 한정판)   20000   \n",
       "4                        올젠 남성 몰스킨 캐주얼 자켓 ZOC3KG1312  117650   \n",
       "\n",
       "                                                link   mall  \n",
       "0  https://search.shopping.naver.com/gate.nhn?id=...   베스트펜  \n",
       "1  https://search.shopping.naver.com/gate.nhn?id=...    네이버  \n",
       "2  https://search.shopping.naver.com/gate.nhn?id=...    네이버  \n",
       "3  https://search.shopping.naver.com/gate.nhn?id=...  안네프랑크  \n",
       "4  https://search.shopping.naver.com/gate.nhn?id=...    네이버  "
      ]
     },
     "metadata": {},
     "execution_count": 21
    }
   ],
   "metadata": {}
  },
  {
   "cell_type": "markdown",
   "source": [
    "## (5) actMain( )"
   ],
   "metadata": {}
  },
  {
   "cell_type": "code",
   "execution_count": 22,
   "source": [
    "for n in range(1, 1000, 100):\r\n",
    "    print(n)"
   ],
   "outputs": [
    {
     "output_type": "stream",
     "name": "stdout",
     "text": [
      "1\n",
      "101\n",
      "201\n",
      "301\n",
      "401\n",
      "501\n",
      "601\n",
      "701\n",
      "801\n",
      "901\n"
     ]
    }
   ],
   "metadata": {}
  },
  {
   "cell_type": "code",
   "execution_count": 23,
   "source": [
    "result_mol = []\r\n",
    "\r\n",
    "for n in range(1, 1000, 100):\r\n",
    "    url = gen_search_url('shop', '몰스킨', n, 100)\r\n",
    "    json_result = get_result_onepage(url)\r\n",
    "    pd_result = get_fields(json_result)\r\n",
    "\r\n",
    "    result_mol.append(pd_result)\r\n",
    "\r\n",
    "result_mol = pd.concat(result_mol)\r\n",
    "\r\n"
   ],
   "outputs": [
    {
     "output_type": "stream",
     "name": "stdout",
     "text": [
      "[2023-03-15 21:40:30.069280] url request success\n",
      "[2023-03-15 21:40:30.739034] url request success\n",
      "[2023-03-15 21:40:31.135860] url request success\n",
      "[2023-03-15 21:40:31.582940] url request success\n",
      "[2023-03-15 21:40:32.117613] url request success\n",
      "[2023-03-15 21:40:32.653289] url request success\n",
      "[2023-03-15 21:40:33.186968] url request success\n",
      "[2023-03-15 21:40:33.833703] url request success\n",
      "[2023-03-15 21:40:34.252558] url request success\n",
      "[2023-03-15 21:40:34.663173] url request success\n"
     ]
    }
   ],
   "metadata": {}
  },
  {
   "cell_type": "code",
   "execution_count": 24,
   "source": [
    "result_mol.info()"
   ],
   "outputs": [
    {
     "output_type": "stream",
     "name": "stdout",
     "text": [
      "<class 'pandas.core.frame.DataFrame'>\n",
      "Int64Index: 1000 entries, 0 to 99\n",
      "Data columns (total 4 columns):\n",
      " #   Column  Non-Null Count  Dtype \n",
      "---  ------  --------------  ----- \n",
      " 0   title   1000 non-null   object\n",
      " 1   lprice  1000 non-null   object\n",
      " 2   link    1000 non-null   object\n",
      " 3   mall    1000 non-null   object\n",
      "dtypes: object(4)\n",
      "memory usage: 39.1+ KB\n"
     ]
    }
   ],
   "metadata": {}
  },
  {
   "cell_type": "code",
   "execution_count": 25,
   "source": [
    "result_mol.reset_index(drop=True, inplace=True) # 인덱스 0~ 주기 위함\r\n",
    "result_mol.tail()"
   ],
   "outputs": [
    {
     "output_type": "execute_result",
     "data": {
      "text/html": [
       "<div>\n",
       "<style scoped>\n",
       "    .dataframe tbody tr th:only-of-type {\n",
       "        vertical-align: middle;\n",
       "    }\n",
       "\n",
       "    .dataframe tbody tr th {\n",
       "        vertical-align: top;\n",
       "    }\n",
       "\n",
       "    .dataframe thead th {\n",
       "        text-align: right;\n",
       "    }\n",
       "</style>\n",
       "<table border=\"1\" class=\"dataframe\">\n",
       "  <thead>\n",
       "    <tr style=\"text-align: right;\">\n",
       "      <th></th>\n",
       "      <th>title</th>\n",
       "      <th>lprice</th>\n",
       "      <th>link</th>\n",
       "      <th>mall</th>\n",
       "    </tr>\n",
       "  </thead>\n",
       "  <tbody>\n",
       "    <tr>\n",
       "      <th>995</th>\n",
       "      <td>[몰스킨] 펜슬 블랙(2B-2개,HB-1개)</td>\n",
       "      <td>18240</td>\n",
       "      <td>https://search.shopping.naver.com/gate.nhn?id=...</td>\n",
       "      <td>몰스킨공식온라인스토어</td>\n",
       "    </tr>\n",
       "    <tr>\n",
       "      <th>996</th>\n",
       "      <td>[몰스킨] 까이에 저널 브리스크 블루</td>\n",
       "      <td>15600</td>\n",
       "      <td>https://search.shopping.naver.com/gate.nhn?id=...</td>\n",
       "      <td>몰스킨공식온라인스토어</td>\n",
       "    </tr>\n",
       "    <tr>\n",
       "      <th>997</th>\n",
       "      <td>갤럭시라이프스타일 갤럭시 라이프스타일 CARDINAL SLIM FIT 가먼트워싱 몰...</td>\n",
       "      <td>53090</td>\n",
       "      <td>https://search.shopping.naver.com/gate.nhn?id=...</td>\n",
       "      <td>네이버</td>\n",
       "    </tr>\n",
       "    <tr>\n",
       "      <th>998</th>\n",
       "      <td>인디안 몰스킨 착탈형 사파리 NC강남점 295231 MIKKAYF8211</td>\n",
       "      <td>152090</td>\n",
       "      <td>https://search.shopping.naver.com/gate.nhn?id=...</td>\n",
       "      <td>네이버</td>\n",
       "    </tr>\n",
       "    <tr>\n",
       "      <th>999</th>\n",
       "      <td>트레몰로 S S몰스킨라이크네이비자켓 TRNFUYSC311</td>\n",
       "      <td>85530</td>\n",
       "      <td>https://search.shopping.naver.com/gate.nhn?id=...</td>\n",
       "      <td>네이버</td>\n",
       "    </tr>\n",
       "  </tbody>\n",
       "</table>\n",
       "</div>"
      ],
      "text/plain": [
       "                                                 title  lprice  \\\n",
       "995                           [몰스킨] 펜슬 블랙(2B-2개,HB-1개)   18240   \n",
       "996                               [몰스킨] 까이에 저널 브리스크 블루   15600   \n",
       "997  갤럭시라이프스타일 갤럭시 라이프스타일 CARDINAL SLIM FIT 가먼트워싱 몰...   53090   \n",
       "998           인디안 몰스킨 착탈형 사파리 NC강남점 295231 MIKKAYF8211  152090   \n",
       "999                    트레몰로 S S몰스킨라이크네이비자켓 TRNFUYSC311   85530   \n",
       "\n",
       "                                                  link         mall  \n",
       "995  https://search.shopping.naver.com/gate.nhn?id=...  몰스킨공식온라인스토어  \n",
       "996  https://search.shopping.naver.com/gate.nhn?id=...  몰스킨공식온라인스토어  \n",
       "997  https://search.shopping.naver.com/gate.nhn?id=...          네이버  \n",
       "998  https://search.shopping.naver.com/gate.nhn?id=...          네이버  \n",
       "999  https://search.shopping.naver.com/gate.nhn?id=...          네이버  "
      ]
     },
     "metadata": {},
     "execution_count": 25
    }
   ],
   "metadata": {}
  },
  {
   "cell_type": "code",
   "execution_count": 26,
   "source": [
    "result_mol.info()"
   ],
   "outputs": [
    {
     "output_type": "stream",
     "name": "stdout",
     "text": [
      "<class 'pandas.core.frame.DataFrame'>\n",
      "RangeIndex: 1000 entries, 0 to 999\n",
      "Data columns (total 4 columns):\n",
      " #   Column  Non-Null Count  Dtype \n",
      "---  ------  --------------  ----- \n",
      " 0   title   1000 non-null   object\n",
      " 1   lprice  1000 non-null   object\n",
      " 2   link    1000 non-null   object\n",
      " 3   mall    1000 non-null   object\n",
      "dtypes: object(4)\n",
      "memory usage: 31.4+ KB\n"
     ]
    }
   ],
   "metadata": {}
  },
  {
   "cell_type": "code",
   "execution_count": 27,
   "source": [
    "result_mol.tail()"
   ],
   "outputs": [
    {
     "output_type": "execute_result",
     "data": {
      "text/html": [
       "<div>\n",
       "<style scoped>\n",
       "    .dataframe tbody tr th:only-of-type {\n",
       "        vertical-align: middle;\n",
       "    }\n",
       "\n",
       "    .dataframe tbody tr th {\n",
       "        vertical-align: top;\n",
       "    }\n",
       "\n",
       "    .dataframe thead th {\n",
       "        text-align: right;\n",
       "    }\n",
       "</style>\n",
       "<table border=\"1\" class=\"dataframe\">\n",
       "  <thead>\n",
       "    <tr style=\"text-align: right;\">\n",
       "      <th></th>\n",
       "      <th>title</th>\n",
       "      <th>lprice</th>\n",
       "      <th>link</th>\n",
       "      <th>mall</th>\n",
       "    </tr>\n",
       "  </thead>\n",
       "  <tbody>\n",
       "    <tr>\n",
       "      <th>995</th>\n",
       "      <td>[몰스킨] 펜슬 블랙(2B-2개,HB-1개)</td>\n",
       "      <td>18240</td>\n",
       "      <td>https://search.shopping.naver.com/gate.nhn?id=...</td>\n",
       "      <td>몰스킨공식온라인스토어</td>\n",
       "    </tr>\n",
       "    <tr>\n",
       "      <th>996</th>\n",
       "      <td>[몰스킨] 까이에 저널 브리스크 블루</td>\n",
       "      <td>15600</td>\n",
       "      <td>https://search.shopping.naver.com/gate.nhn?id=...</td>\n",
       "      <td>몰스킨공식온라인스토어</td>\n",
       "    </tr>\n",
       "    <tr>\n",
       "      <th>997</th>\n",
       "      <td>갤럭시라이프스타일 갤럭시 라이프스타일 CARDINAL SLIM FIT 가먼트워싱 몰...</td>\n",
       "      <td>53090</td>\n",
       "      <td>https://search.shopping.naver.com/gate.nhn?id=...</td>\n",
       "      <td>네이버</td>\n",
       "    </tr>\n",
       "    <tr>\n",
       "      <th>998</th>\n",
       "      <td>인디안 몰스킨 착탈형 사파리 NC강남점 295231 MIKKAYF8211</td>\n",
       "      <td>152090</td>\n",
       "      <td>https://search.shopping.naver.com/gate.nhn?id=...</td>\n",
       "      <td>네이버</td>\n",
       "    </tr>\n",
       "    <tr>\n",
       "      <th>999</th>\n",
       "      <td>트레몰로 S S몰스킨라이크네이비자켓 TRNFUYSC311</td>\n",
       "      <td>85530</td>\n",
       "      <td>https://search.shopping.naver.com/gate.nhn?id=...</td>\n",
       "      <td>네이버</td>\n",
       "    </tr>\n",
       "  </tbody>\n",
       "</table>\n",
       "</div>"
      ],
      "text/plain": [
       "                                                 title  lprice  \\\n",
       "995                           [몰스킨] 펜슬 블랙(2B-2개,HB-1개)   18240   \n",
       "996                               [몰스킨] 까이에 저널 브리스크 블루   15600   \n",
       "997  갤럭시라이프스타일 갤럭시 라이프스타일 CARDINAL SLIM FIT 가먼트워싱 몰...   53090   \n",
       "998           인디안 몰스킨 착탈형 사파리 NC강남점 295231 MIKKAYF8211  152090   \n",
       "999                    트레몰로 S S몰스킨라이크네이비자켓 TRNFUYSC311   85530   \n",
       "\n",
       "                                                  link         mall  \n",
       "995  https://search.shopping.naver.com/gate.nhn?id=...  몰스킨공식온라인스토어  \n",
       "996  https://search.shopping.naver.com/gate.nhn?id=...  몰스킨공식온라인스토어  \n",
       "997  https://search.shopping.naver.com/gate.nhn?id=...          네이버  \n",
       "998  https://search.shopping.naver.com/gate.nhn?id=...          네이버  \n",
       "999  https://search.shopping.naver.com/gate.nhn?id=...          네이버  "
      ]
     },
     "metadata": {},
     "execution_count": 27
    }
   ],
   "metadata": {}
  },
  {
   "cell_type": "code",
   "execution_count": 28,
   "source": [
    "result_mol['lprice'] = result_mol['lprice'].astype('float')"
   ],
   "outputs": [],
   "metadata": {}
  },
  {
   "cell_type": "code",
   "execution_count": 29,
   "source": [
    "result_mol.info()"
   ],
   "outputs": [
    {
     "output_type": "stream",
     "name": "stdout",
     "text": [
      "<class 'pandas.core.frame.DataFrame'>\n",
      "RangeIndex: 1000 entries, 0 to 999\n",
      "Data columns (total 4 columns):\n",
      " #   Column  Non-Null Count  Dtype  \n",
      "---  ------  --------------  -----  \n",
      " 0   title   1000 non-null   object \n",
      " 1   lprice  1000 non-null   float64\n",
      " 2   link    1000 non-null   object \n",
      " 3   mall    1000 non-null   object \n",
      "dtypes: float64(1), object(3)\n",
      "memory usage: 31.4+ KB\n"
     ]
    }
   ],
   "metadata": {}
  },
  {
   "cell_type": "markdown",
   "source": [
    "## (5) to_excel( )"
   ],
   "metadata": {}
  },
  {
   "cell_type": "code",
   "execution_count": 30,
   "source": [
    "import xlsxwriter\r\n",
    "writer = pd.ExcelWriter('../data/06_molskin_diary_in_naver_shop.xlsx', engine='xlsxwriter')\r\n",
    "result_mol.to_excel(writer, sheet_name='Sheet1')\r\n",
    "\r\n",
    "workbook = writer.book\r\n",
    "worksheet = writer.sheets['Sheet1']\r\n",
    "worksheet.set_column('A:A', 4)\r\n",
    "worksheet.set_column('B:B', 60)\r\n",
    "worksheet.set_column('C:C', 10)\r\n",
    "worksheet.set_column('D:D', 10)\r\n",
    "worksheet.set_column('E:E', 50)\r\n",
    "worksheet.set_column('F:F', 10)\r\n",
    "\r\n",
    "worksheet.conditional_format('C2:C1001', {'type':'3_color_scale'})\r\n",
    "writer.save()\r\n"
   ],
   "outputs": [],
   "metadata": {}
  },
  {
   "cell_type": "markdown",
   "source": [
    "## (6) 시각화"
   ],
   "metadata": {}
  },
  {
   "cell_type": "code",
   "execution_count": 31,
   "source": [
    "import set_matplotlib_hangul \r\n",
    "import seaborn as sns\r\n",
    "import matplotlib.pyplot as plt"
   ],
   "outputs": [],
   "metadata": {}
  },
  {
   "cell_type": "code",
   "execution_count": 33,
   "source": [
    "plt.figure(figsize=(10, 6))\r\n",
    "sns.countplot(\r\n",
    "    result_mol['mall'],\r\n",
    "    data=result_mol, \r\n",
    "    order=result_mol['mall'].value_counts().index\r\n",
    ")\r\n",
    "plt.xticks(rotation=90)\r\n",
    "plt.show()"
   ],
   "outputs": [
    {
     "output_type": "stream",
     "name": "stderr",
     "text": [
      "C:\\Anaconda3\\envs\\ds_study\\lib\\site-packages\\seaborn\\_decorators.py:36: FutureWarning: Pass the following variable as a keyword arg: x. From version 0.12, the only valid positional argument will be `data`, and passing other arguments without an explicit keyword will result in an error or misinterpretation.\n",
      "  warnings.warn(\n"
     ]
    },
    {
     "output_type": "display_data",
     "data": {
      "image/png": "[encoded data removed]",
      "text/plain": [
       "<Figure size 720x432 with 1 Axes>"
      ]
     },
     "metadata": {
      "needs_background": "light"
     }
    }
   ],
   "metadata": {}
  }
 ],
 "metadata": {
  "orig_nbformat": 4,
  "language_info": {
   "name": "python",
   "version": "3.8.11",
   "mimetype": "text/x-python",
   "codemirror_mode": {
    "name": "ipython",
    "version": 3
   },
   "pygments_lexer": "ipython3",
   "nbconvert_exporter": "python",
   "file_extension": ".py"
  },
  "kernelspec": {
   "name": "python3",
   "display_name": "Python 3.8.11 64-bit ('ds_study': conda)"
  },
  "interpreter": {
   "hash": "ac43775a0ee1ce4841e9ed4730f9066fe38fe9ee5e6319d6f89550651fb49a9c"
  }
 },
 "nbformat": 4,
 "nbformat_minor": 2
}